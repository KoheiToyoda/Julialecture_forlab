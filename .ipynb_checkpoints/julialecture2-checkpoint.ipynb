{
 "cells": [
  {
   "cell_type": "markdown",
   "metadata": {},
   "source": [
    "# Julia 言語\n",
    "\n",
    "## 第2回 基本的な構文\n",
    "\n",
    "ここでは基本的な構文を説明します。  \n",
    "当然ここでは説明しきれない量の構文がありますので、  \n",
    "ざっくり説明して、実際にプログラムをかけるところまで行きたいと思います。  \n",
    "次回以降、さらに必要な知識を追加していきます。  \n",
    "  \n",
    "各セルの中身を実際に入力し、自分のエディタでも実行してみましょう。\n",
    "\n",
    "### 2.1 変数"
   ]
  },
  {
   "cell_type": "markdown",
   "metadata": {},
   "source": [
    " ```変数```はデータ(数値、文字列、真偽値など）を格納する場所です。  \n",
    "```変数名 = 値```  \n",
    "下記のようにして使います。  "
   ]
  },
  {
   "cell_type": "code",
   "execution_count": 1,
   "metadata": {},
   "outputs": [
    {
     "data": {
      "text/plain": [
       "5"
      ]
     },
     "execution_count": 1,
     "metadata": {},
     "output_type": "execute_result"
    }
   ],
   "source": [
    "a = 5"
   ]
  },
  {
   "cell_type": "code",
   "execution_count": 2,
   "metadata": {},
   "outputs": [
    {
     "data": {
      "text/plain": [
       "\"こんにちは\""
      ]
     },
     "execution_count": 2,
     "metadata": {},
     "output_type": "execute_result"
    }
   ],
   "source": [
    "b = \"こんにちは\" "
   ]
  },
  {
   "cell_type": "code",
   "execution_count": 3,
   "metadata": {},
   "outputs": [
    {
     "data": {
      "text/plain": [
       "true"
      ]
     },
     "execution_count": 3,
     "metadata": {},
     "output_type": "execute_result"
    }
   ],
   "source": [
    "c = true"
   ]
  },
  {
   "cell_type": "markdown",
   "metadata": {},
   "source": [
    "ここでは、a,b,c三つの変数を宣言し、値を代入しました。  \n",
    "データを変数に格納することを、代入といい、演算子```=```を使います。  \n",
    "ここでの```=```は数学的な等号を意味しません。   \n",
    "\n",
    "変数名にはUnicodeも使えます。 "
   ]
  },
  {
   "cell_type": "code",
   "execution_count": 4,
   "metadata": {},
   "outputs": [
    {
     "data": {
      "text/plain": [
       "0.1"
      ]
     },
     "execution_count": 4,
     "metadata": {},
     "output_type": "execute_result"
    }
   ],
   "source": [
    "α = 1\n",
    "Δx =0.1"
   ]
  },
  {
   "cell_type": "markdown",
   "metadata": {},
   "source": [
    "何なら絵文字も使えます。  "
   ]
  },
  {
   "cell_type": "code",
   "execution_count": 5,
   "metadata": {},
   "outputs": [
    {
     "data": {
      "text/plain": [
       "\"ねこ is cat\""
      ]
     },
     "execution_count": 5,
     "metadata": {},
     "output_type": "execute_result"
    }
   ],
   "source": [
    "🐱 = \"ねこ is cat\""
   ]
  },
  {
   "cell_type": "markdown",
   "metadata": {},
   "source": [
    "演算子は2.3で説明しますが、変数名の前の```*``` 乗算演算子は省略できます。"
   ]
  },
  {
   "cell_type": "code",
   "execution_count": 6,
   "metadata": {},
   "outputs": [
    {
     "data": {
      "text/plain": [
       "10"
      ]
     },
     "execution_count": 6,
     "metadata": {},
     "output_type": "execute_result"
    }
   ],
   "source": [
    "a = 5\n",
    "2a"
   ]
  },
  {
   "cell_type": "markdown",
   "metadata": {},
   "source": [
    "円周率はデフォルトで入ってます。"
   ]
  },
  {
   "cell_type": "code",
   "execution_count": 7,
   "metadata": {},
   "outputs": [
    {
     "data": {
      "text/plain": [
       "π = 3.1415926535897..."
      ]
     },
     "execution_count": 7,
     "metadata": {},
     "output_type": "execute_result"
    }
   ],
   "source": [
    "π"
   ]
  },
  {
   "cell_type": "code",
   "execution_count": 8,
   "metadata": {},
   "outputs": [
    {
     "data": {
      "text/plain": [
       "9.42477796076938"
      ]
     },
     "execution_count": 8,
     "metadata": {},
     "output_type": "execute_result"
    }
   ],
   "source": [
    "3π"
   ]
  },
  {
   "cell_type": "markdown",
   "metadata": {},
   "source": [
    "## 2.2 関数の呼び出し方\n",
    "\n",
    "```関数```とは処理をひとまとめにしたものです。  \n",
    "以下のような書式と用語です。  \n",
    "```関数名(引数)```  \n",
    "与えた引数(値)に応じて様々な機能を提供してくれます。  \n",
    "たとえば、```println(引数)``` は引数を画面に表示してくれる関数です。\n",
    "\n",
    "例えば変数の型を見るtypeof()関数を使ってみましょう。  \n",
    "  \n",
    "変数は値を代入された瞬間に、  \n",
    "どういう種類の値が格納されるのか、メモリ容量を確保すればいいのか、  \n",
    "という情報を持ちます。  \n",
    "これを```型(type)```といいます。  \n",
    "  \n",
    "次に示すのは、  \n",
    "println関数に、typeof関数の結果を引数として与えたソースです。  "
   ]
  },
  {
   "cell_type": "code",
   "execution_count": 9,
   "metadata": {},
   "outputs": [
    {
     "name": "stdout",
     "output_type": "stream",
     "text": [
      "Int64\n",
      "String\n",
      "Bool\n"
     ]
    }
   ],
   "source": [
    "println( typeof(a) ) #Int64\n",
    "println( typeof(b) ) #String\n",
    "println( typeof(c) ) #Bool"
   ]
  },
  {
   "cell_type": "markdown",
   "metadata": {},
   "source": [
    "Juliaは様々な変数の型をもっています。例えば"
   ]
  },
  {
   "cell_type": "code",
   "execution_count": 10,
   "metadata": {},
   "outputs": [
    {
     "name": "stdout",
     "output_type": "stream",
     "text": [
      "Int64\n",
      "Float64\n",
      "String\n",
      "Complex{Int64}\n",
      "Bool\n",
      "Bool\n"
     ]
    }
   ],
   "source": [
    "println( typeof(1))\n",
    "println( typeof(1.0))\n",
    "println( typeof(\"文字列はstring\"))\n",
    "println( typeof(1im))\n",
    "println( typeof(true))\n",
    "println( typeof(false))"
   ]
  },
  {
   "cell_type": "markdown",
   "metadata": {},
   "source": [
    "IntはIntgerの略で整数、という意味です。  \n",
    "末尾の数字は64bit  \n",
    "より大きい数字を格納できます。  \n",
    "同様にFloatは浮動小数点のことです。  \n",
    "1 と 1．0 で型が異なることに注意です。  \n",
    "同じ種類の型同士であれば四則演算が可能です。  \n",
    "ここでは同じ種類というのは例えば数値型なら数値型、文字型なら文字型、という程度に覚えておいてください。  \n",
    "  \n",
    "※詳細に言うならば、同じ抽象型(Abstract type)のSubtypeなら四則演算が用意されていることが多い、です。  \n",
    "今は気にしなくておｋ"
   ]
  },
  {
   "cell_type": "code",
   "execution_count": 11,
   "metadata": {},
   "outputs": [
    {
     "name": "stdout",
     "output_type": "stream",
     "text": [
      "7.5\n"
     ]
    }
   ],
   "source": [
    "d = 3\n",
    "e = 4.5\n",
    "println(d+e)"
   ]
  },
  {
   "cell_type": "code",
   "execution_count": 12,
   "metadata": {},
   "outputs": [
    {
     "name": "stdout",
     "output_type": "stream",
     "text": [
      "さようならまたあいましょう\n"
     ]
    }
   ],
   "source": [
    "f = \"さようなら\"\n",
    "g = \"またあいましょう\"\n",
    "println(f*g)"
   ]
  },
  {
   "cell_type": "code",
   "execution_count": 13,
   "metadata": {},
   "outputs": [
    {
     "name": "stdout",
     "output_type": "stream",
     "text": [
      "3 + 5im\n"
     ]
    }
   ],
   "source": [
    "h = 5im\n",
    "println(d + h)"
   ]
  },
  {
   "cell_type": "markdown",
   "metadata": {},
   "source": [
    "文字列の連結は```*```です。 他言語ですと+が多いですが、間違えないようにしましょう。   \n",
    "複素数は数字imで表記します。1imとかとします。  \n",
    "もちろん違う型同士だと、エラーが出ます。  \n",
    "  \n"
   ]
  },
  {
   "cell_type": "markdown",
   "metadata": {},
   "source": [
    "\n",
    "### 2.3 エラーの見方\n",
    "プログラムを書くと様々なエラーが発生します。  \n",
    "インタプリタは、エラーを検知するとエラーの種類や場所に応じてコメントを返します。  \n",
    "ここでは、エラーの見方を確認します。"
   ]
  },
  {
   "cell_type": "code",
   "execution_count": 14,
   "metadata": {},
   "outputs": [
    {
     "ename": "LoadError",
     "evalue": "MethodError: no method matching +(::Int64, ::String)\nClosest candidates are:\n  +(::Any, ::Any, !Matched::Any, !Matched::Any...) at operators.jl:538\n  +(::T, !Matched::T) where T<:Union{Int128, Int16, Int32, Int64, Int8, UInt128, UInt16, UInt32, UInt64, UInt8} at int.jl:86\n  +(::Integer, !Matched::Integer) at int.jl:918\n  ...",
     "output_type": "error",
     "traceback": [
      "MethodError: no method matching +(::Int64, ::String)\nClosest candidates are:\n  +(::Any, ::Any, !Matched::Any, !Matched::Any...) at operators.jl:538\n  +(::T, !Matched::T) where T<:Union{Int128, Int16, Int32, Int64, Int8, UInt128, UInt16, UInt32, UInt64, UInt8} at int.jl:86\n  +(::Integer, !Matched::Integer) at int.jl:918\n  ...",
      "",
      "Stacktrace:",
      " [1] top-level scope at In[14]:3",
      " [2] include_string(::Function, ::Module, ::String, ::String) at .\\loading.jl:1091"
     ]
    }
   ],
   "source": [
    "i = 10\n",
    "j = \"整数と文字列は足せない。\"\n",
    "println(i + j)"
   ]
  },
  {
   "cell_type": "markdown",
   "metadata": {},
   "source": [
    "コンパイルエラーが生じると、  \n",
    "様々な情報となぜエラーが出たか、おしえてくれます。  \n",
    "ここでは、\n",
    "```MethodError: no method matching +(::Int64, ::String)```\n",
    "というタイトルです。  \n",
    "juliaは内部で、四則演算すら関数として処理しています。  \n",
    "```a + b``` と  \n",
    "```+(a,b)``` は同じ意味です。"
   ]
  },
  {
   "cell_type": "code",
   "execution_count": 15,
   "metadata": {},
   "outputs": [
    {
     "name": "stdout",
     "output_type": "stream",
     "text": [
      "3\n"
     ]
    }
   ],
   "source": [
    "a = 1\n",
    "b = 2\n",
    "println(+(a,b))"
   ]
  },
  {
   "cell_type": "markdown",
   "metadata": {},
   "source": [
    "先ほどのエラーでは、Int64型と、String型を引数にとる関数+はありません。  \n",
    "という意味です。  \n",
    "```\n",
    "Stacktrace:\n",
    " [1] top-level scope at In[23]:3\n",
    " [2] include_string(::Function, ::Module, ::String, ::String) at .\\loading.jl:1091\n",
    "```\n",
    "の部分では、どこでこのエラーを感知したか、が書いてあります。  \n",
    "```[1]```ここが該当です。 若井番号から見ていけばいいと思います。  \n",
    "23セルの3行目、と書いてあります。   \n",
    "```[2]```はもっと深い階層、＋の定義部分です。  \n",
    "実際には様々なエラーがありますが、  \n",
    "大体理由が書いてあり、デバッグの重要なヒントです。  \n"
   ]
  },
  {
   "cell_type": "markdown",
   "metadata": {},
   "source": [
    "## 2.4 演算子"
   ]
  },
  {
   "cell_type": "markdown",
   "metadata": {},
   "source": [
    "演算子は演算を表すシンボルです。  \n",
    "たくさんあるので、取り急ぎ必要なものだけピックアップします。\n",
    "\n",
    "**算術演算子**\n",
    "\n",
    "|式\t   | 名前|\t説明|\n",
    "| ---- | ---- | ---- |\n",
    "|+x   |  単項加算|\t恒等演算|\n",
    "|-x   | \t単項減算|\t加算の逆元への関数|\n",
    "|x + y|\t二項加算|\t加算を実行|\n",
    "|x - y|\t二項減算|\t減算を実行|\n",
    "|x * y|\t乗算    |\t乗算を実行|\n",
    "|x / y|\t除算    |\t除算を実行|\n",
    "|x ÷ y|\t整数除算|\tx / y, 整数に切り捨て|\n",
    "|x \\ y|\t逆除算  |\ty / xと同等|\n",
    "|x ^ y|\t巾      |\tx の y乗|\n",
    "|x % y|\t剰余算  |\trem(x,y)と同等|\n",
    "|x += y|\t加算代入  |\tx = x + yと同等|\n",
    "|x -= y|\t減算代入  |\tx = x ― yと同等|\n",
    "\n",
    "**比較演算子**\n",
    "\n",
    "|  演算  |  名前  |\n",
    "| ----  |  ---- |\n",
    "|  ==  |  等号  |\n",
    "|  !=  |  ≠不等号  |\n",
    "|  <   |  未満  |\n",
    "|  <=  |  以下  |\n",
    "|  >  |  より大きい  |\n",
    "|  >=  |  以上  |\n",
    "\n",
    "\n",
    "後はここ見てください。  \n",
    "https://mnru.github.io/julia-doc-ja-v1.0/manual/mathematical-operations.html  \n",
    "必要なときに各種説明します。  "
   ]
  },
  {
   "cell_type": "code",
   "execution_count": 16,
   "metadata": {},
   "outputs": [
    {
     "name": "stdout",
     "output_type": "stream",
     "text": [
      "2.5\n",
      "1\n",
      "0.4\n",
      "7\n"
     ]
    }
   ],
   "source": [
    "a = 5\n",
    "b = 2\n",
    "\n",
    "println(a / b)\n",
    "println(a % b)\n",
    "println(a \\ b)\n",
    "a += b\n",
    "println(a)"
   ]
  },
  {
   "cell_type": "markdown",
   "metadata": {},
   "source": [
    "逆除算は行列計算の時に使いますが、  \n",
    "数値の時は a分のbという読み方になります。\n"
   ]
  },
  {
   "cell_type": "code",
   "execution_count": 17,
   "metadata": {},
   "outputs": [
    {
     "name": "stdout",
     "output_type": "stream",
     "text": [
      "true\n",
      "false\n",
      "true\n"
     ]
    }
   ],
   "source": [
    "a = 2\n",
    "b = 3\n",
    "\n",
    "println(a<b)\n",
    "println(a>b)\n",
    "println(a!=b)"
   ]
  },
  {
   "cell_type": "markdown",
   "metadata": {},
   "source": [
    "## 2.5 コレクション\n",
    "  \n",
    "コレクションとは、1つの変数に複数の値を保持できるタンスのようなものです。  \n",
    "コレクションの種類にはリスト、タプル、辞書などがあります。\n",
    "\n",
    "### 2.5.1 リスト  \n",
    "リストは**データ長可変のコレクション**です。  \n",
    "``` a = [2,4,6] ```  \n",
    "のように定義します。  \n",
    "ここで、コレクションに含まれる値のことを``` 要素(element) ``` といいます。  \n",
    "リスト ``` a ``` には三つの要素が含まれています。  \n",
    "一番目は2、二番目は4、三番目は6です。  \n",
    "どこの場所に含まれているか、それを示す番号を``` 添え字(index) ``` または ``` インデックス ``` といいます。  \n",
    "リストの要素を参照するためには下記のようにします。  \n"
   ]
  },
  {
   "cell_type": "code",
   "execution_count": 18,
   "metadata": {},
   "outputs": [
    {
     "name": "stdout",
     "output_type": "stream",
     "text": [
      "[2, 4, 6]\n",
      "2\n",
      "4\n",
      "6\n"
     ]
    }
   ],
   "source": [
    "a = [2,4,6]\n",
    "println( a )\n",
    "\n",
    "println( a[1] )\n",
    "println( a[2] )\n",
    "println( a[3] )\n"
   ]
  },
  {
   "cell_type": "markdown",
   "metadata": {},
   "source": [
    "```a[インデックス] ``` とします。  \n",
    "Julia言語は**先頭要素へのアクセスは添え字1番**からです。  \n",
    "これはFortlanなどと同じですが、C言語やPythonとは異なります。  \n",
    "  \n",
    "要素を追加したいときには、push!()関数を使います。  \n"
   ]
  },
  {
   "cell_type": "code",
   "execution_count": 19,
   "metadata": {},
   "outputs": [
    {
     "name": "stdout",
     "output_type": "stream",
     "text": [
      "[2, 4, 6]\n",
      "[2, 4, 6, 8]\n",
      "8\n",
      "[2, 4, 6]\n",
      "[2, 10, 4, 6]\n",
      "[2, 10, 6]\n"
     ]
    }
   ],
   "source": [
    "println(a)\n",
    "\n",
    " # 末尾への追加\n",
    "push!(a,8)\n",
    "println(a)\n",
    "\n",
    " # 末尾のとりだし\n",
    "b = pop!(a)\n",
    "println(b)\n",
    "println(a)\n",
    "\n",
    "#i番目に要素を挿入\n",
    "insert!(a, 2, 10)\n",
    "println(a)\n",
    "\n",
    "#i番目を削除  \n",
    "deleteat!(a, 3)\n",
    "println(a)"
   ]
  },
  {
   "cell_type": "markdown",
   "metadata": {},
   "source": [
    "Julia言語では慣例的に、**引数を破壊する関数には関数名の末尾に``` ! ```をつけます**。  \n",
    "  \n",
    "``` push!(a) ``` をする前のa と、した後のaは異なるものです。  "
   ]
  },
  {
   "cell_type": "markdown",
   "metadata": {},
   "source": [
    "### 2.5.2 タプル\n",
    "タプルはリストと違い **変更不可能なコレクション** です。執筆中"
   ]
  },
  {
   "cell_type": "markdown",
   "metadata": {},
   "source": [
    "### 2.5.2 辞書\n",
    "辞書は **要素がキーと値がペアになったコレクション** です。執筆中"
   ]
  },
  {
   "cell_type": "markdown",
   "metadata": {},
   "source": [
    "## 2.6 条件評価\n",
    "条件が真のとき(正しいとき)と偽のとき（正しくないとき）の処理を振り分ける構文は以下のようにします。  \n",
    "\n",
    "```\n",
    "  if x < y\n",
    "      println(\"x is less than y\")\n",
    "  elseif x > y\n",
    "      println(\"x is greater than y\")\n",
    "  else\n",
    "      println(\"x is equal to y\")\n",
    "  end\n",
    "```\n",
    "\n",
    "elseif もしくはelse は省略可能です。  \n",
    "if --- end  \n",
    "で一区切り。"
   ]
  },
  {
   "cell_type": "code",
   "execution_count": 20,
   "metadata": {},
   "outputs": [
    {
     "name": "stdout",
     "output_type": "stream",
     "text": [
      "x is greater than y\n",
      "x is less than y\n",
      "x is equal to y\n"
     ]
    }
   ],
   "source": [
    "x = 10\n",
    "y = 5\n",
    "\n",
    "  if x < y\n",
    "      println(\"x is less than y\")\n",
    "  elseif x > y\n",
    "      println(\"x is greater than y\")\n",
    "  else\n",
    "      println(\"x is equal to y\")\n",
    "  end\n",
    "\n",
    "y = 20\n",
    "\n",
    "  if x < y\n",
    "      println(\"x is less than y\")\n",
    "  elseif x > y\n",
    "      println(\"x is greater than y\")\n",
    "  else\n",
    "      println(\"x is equal to y\")\n",
    "  end\n",
    "\n",
    "y= 10\n",
    "\n",
    "  if x < y\n",
    "      println(\"x is less than y\")\n",
    "  elseif x > y\n",
    "      println(\"x is greater than y\")\n",
    "  else\n",
    "      println(\"x is equal to y\")\n",
    "  end"
   ]
  },
  {
   "cell_type": "markdown",
   "metadata": {},
   "source": [
    "## 2.7 反復操作"
   ]
  },
  {
   "cell_type": "markdown",
   "metadata": {},
   "source": [
    "## 2.8 REPL操作(PkgモードとHELPモード)\n",
    "VSCode を使っている皆さんは.jlファイルをShift+Enterすると、  \n",
    "REPLというものが立ち上がるのが確認できると思います。  \n",
    "REPL(Read eval print loop)は対話式のJuliaコンソールです。  \n",
    "コマンドプロンプトから\n",
    "\n",
    "``` >julia ```  \n",
    "\n",
    "と入力してインタプリタが起動するのを確認したと思います。  \n",
    "あれがREPLです。  \n",
    "VSCodeもエディタ内でREPLを立ち上げてプログラムを実行します。 \n",
    "  \n",
    "JuliaはこのREPLが非常に優秀かつ強力です。  \n",
    "さっそく使ってみましょう。\n",
    "  \n",
    "**VSCodeを使ってる場合**  \n",
    "- .jlファイルをShift+Enterする  \n",
    "もしくは  \n",
    "- Ctrl(Command)+Shift+Pを押すと設定検索窓が立ち上がる。\n",
    "  juliaと入力すると  \n",
    "  Start REPLというのがあるので、これを選択  \n",
    " \n",
    "どちらでもいいです。  \n",
    "豊田は2番の方法をCtrl+J 2回というキーバインドに設定しています。  \n",
    "VSCodeのキーバインドは本筋からずれるので、調べてください。  \n",
    "\n",
    "\n",
    "**VSCodeを使っていない人**  \n",
    "REPL起動はどのエディタも付いていると思うんですが、各々調べてください。  \n",
    "分からなければスタートメニューのJulia.exeで大丈夫です。  \n",
    "\n",
    "\n"
   ]
  },
  {
   "cell_type": "markdown",
   "metadata": {},
   "source": [
    "### 2.8.1 HELPモード\n",
    "\n",
    "```julia> ```  \n",
    "\n",
    "と出てきたら、カーソルを合わせて、\n",
    "\n",
    "``` ? ```  \n",
    "\n",
    "を入力してください。  \n",
    "``` (HELP)> ```  \n",
    "\n",
    "\n",
    "これだけでjuliaはHELPモードに入ります。  \n",
    "分からないことはここに入力すればいいです。  \n",
    "たとえば   \n",
    "  \n",
    "``` for ```    \n",
    "  \n",
    "と入力してみましょう。 \n",
    "\n",
    "  \n",
    "```\n",
    "for loops repeatedly evaluate a block of statements while iterating over a sequence of values.\n",
    "\n",
    "  Examples\n",
    "  ≡≡≡≡≡≡≡≡≡≡\n",
    "\n",
    "  julia> for i in [1, 4, 0]\n",
    "             println(i)\n",
    "         end\n",
    "  1\n",
    "  4\n",
    "  0\n",
    "```\n",
    "\n",
    "このように基本構文から、パッケージの使い方まで教えてくれます。  \n",
    "  \n",
    "HELPモードからはBackSpaceで抜けることができます。  "
   ]
  },
  {
   "cell_type": "markdown",
   "metadata": {},
   "source": [
    "### 2.8.2 Pkg モード\n",
    "\n",
    "\n",
    "``` Julia> ```  \n",
    "\n",
    "に戻ったら\n",
    "\n",
    "``` ] ```  \n",
    "\n",
    "と入力してみてください  \n",
    "\n",
    "``` (@v1.5)Pkg> ```  \n",
    "これはPkg(パッケージ)モードというものです。  \n",
    "Juliaは様々な機能を外部パッケ―ジとして提供しています。 \n",
    "  \n",
    "プロット機能はPlots.jl  \n",
    "行列計算はLinearAlgebla.jl  \n",
    "  \n",
    "など、今なお現在、多くのパッケージが開発が進められています。  \n",
    "これをダウンロードしてインストールしたり、  \n",
    "削除したりするのがパッケージモードです。  \n",
    "(pythonでいうpipやcondaのようなものです。)  \n",
    "  \n",
    "\n",
    "今回は以下のようにしてください。  \n",
    "``` (@v1.5)Pkg> add Plots```   \n",
    "これだけでJuliaにプロット機能を追加することができます。  \n",
    "  \n",
    "自動でダウンロードとインストールが始まります。  \n",
    "終わったら次は以下のコマンドを打ちます。  \n",
    "``` (@v1.5)Pkg> precompile```  \n",
    "実際ソースコードを動かす前に事前にコンパイルしておくことで、  \n",
    "プログラムを動かすのに必要な時間短縮が可能です。  \n",
    "  \n",
    "Pkgモードには他に、  \n",
    "``` (@v1.5)Pkg> st ```    \n",
    "``` (@v1.5)Pkg> status ```  \n",
    "現在インストールされているパッケージ確認  \n",
    "``` (@v1.5)Pkg> up ```    \n",
    "``` (@v1.5)Pkg> update ```  \n",
    "現在インストールされているパッケージを一括アップデート  \n",
    "``` (@v1.5)Pkg> rm(\"****\")```  \n",
    "``` (@v1.5)Pkg> remove(\"****\")```  \n",
    "```**** ```という名前のパッケージを削除\n",
    "等があります。  "
   ]
  },
  {
   "cell_type": "code",
   "execution_count": null,
   "metadata": {},
   "outputs": [],
   "source": []
  }
 ],
 "metadata": {
  "kernelspec": {
   "display_name": "Julia 1.5.0",
   "language": "julia",
   "name": "julia-1.5"
  },
  "language_info": {
   "file_extension": ".jl",
   "mimetype": "application/julia",
   "name": "julia",
   "version": "1.5.0"
  },
  "toc": {
   "base_numbering": 1,
   "nav_menu": {},
   "number_sections": true,
   "sideBar": true,
   "skip_h1_title": false,
   "title_cell": "Table of Contents",
   "title_sidebar": "Contents",
   "toc_cell": false,
   "toc_position": {},
   "toc_section_display": true,
   "toc_window_display": false
  },
  "varInspector": {
   "cols": {
    "lenName": 16,
    "lenType": 16,
    "lenVar": 40
   },
   "kernels_config": {
    "python": {
     "delete_cmd_postfix": "",
     "delete_cmd_prefix": "del ",
     "library": "var_list.py",
     "varRefreshCmd": "print(var_dic_list())"
    },
    "r": {
     "delete_cmd_postfix": ") ",
     "delete_cmd_prefix": "rm(",
     "library": "var_list.r",
     "varRefreshCmd": "cat(var_dic_list()) "
    }
   },
   "types_to_exclude": [
    "module",
    "function",
    "builtin_function_or_method",
    "instance",
    "_Feature"
   ],
   "window_display": false
  }
 },
 "nbformat": 4,
 "nbformat_minor": 4
}
