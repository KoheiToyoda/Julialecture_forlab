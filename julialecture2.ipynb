{
 "cells": [
  {
   "cell_type": "markdown",
   "metadata": {},
   "source": [
    "# Julia 言語 第2回 基本的な構文\n",
    "\n",
    "ここでは基本的な構文を説明します。  \n",
    "当然ここでは説明しきれない量の構文がありますので、  \n",
    "ざっくり説明して、実際にプログラムをかけるところまで行きたいと思います。  \n",
    "次回以降、さらに必要な知識を追加していきます。  \n",
    "  \n",
    "各セルの中身を実際に入力し、自分のエディタでも実行してみましょう。\n",
    "\n"
   ]
  },
  {
   "cell_type": "markdown",
   "metadata": {},
   "source": [
    "## 2.1 変数\n",
    " \n",
    "```変数```はデータ(数値、文字列、真偽値など）を格納する場所です。  \n",
    "```変数名 = 値```  \n",
    "下記のようにして使います。  "
   ]
  },
  {
   "cell_type": "code",
   "execution_count": 1,
   "metadata": {},
   "outputs": [
    {
     "data": {
      "text/plain": [
       "5"
      ]
     },
     "execution_count": 1,
     "metadata": {},
     "output_type": "execute_result"
    }
   ],
   "source": [
    "a = 5"
   ]
  },
  {
   "cell_type": "code",
   "execution_count": 2,
   "metadata": {},
   "outputs": [
    {
     "data": {
      "text/plain": [
       "\"こんにちは\""
      ]
     },
     "execution_count": 2,
     "metadata": {},
     "output_type": "execute_result"
    }
   ],
   "source": [
    "b = \"こんにちは\" "
   ]
  },
  {
   "cell_type": "code",
   "execution_count": 3,
   "metadata": {},
   "outputs": [
    {
     "data": {
      "text/plain": [
       "true"
      ]
     },
     "execution_count": 3,
     "metadata": {},
     "output_type": "execute_result"
    }
   ],
   "source": [
    "c = true"
   ]
  },
  {
   "cell_type": "markdown",
   "metadata": {},
   "source": [
    "ここでは、a,b,c三つの変数を宣言し、値を代入しました。  \n",
    "データを変数に格納することを、代入といい、演算子```=```を使います。  \n",
    "ここでの```=```は数学的な等号を意味しません。   \n",
    "\n",
    "変数名にはUnicodeも使えます。 "
   ]
  },
  {
   "cell_type": "code",
   "execution_count": 4,
   "metadata": {},
   "outputs": [
    {
     "data": {
      "text/plain": [
       "0.1"
      ]
     },
     "execution_count": 4,
     "metadata": {},
     "output_type": "execute_result"
    }
   ],
   "source": [
    "α = 1\n",
    "Δx =0.1"
   ]
  },
  {
   "cell_type": "markdown",
   "metadata": {},
   "source": [
    "何なら絵文字も使えます。  "
   ]
  },
  {
   "cell_type": "code",
   "execution_count": 5,
   "metadata": {},
   "outputs": [
    {
     "data": {
      "text/plain": [
       "\"ねこ is cat\""
      ]
     },
     "execution_count": 5,
     "metadata": {},
     "output_type": "execute_result"
    }
   ],
   "source": [
    "🐱 = \"ねこ is cat\""
   ]
  },
  {
   "cell_type": "markdown",
   "metadata": {},
   "source": [
    "演算子は2.3で説明しますが、変数名の前の```*``` 乗算演算子は省略できます。"
   ]
  },
  {
   "cell_type": "code",
   "execution_count": 6,
   "metadata": {},
   "outputs": [
    {
     "data": {
      "text/plain": [
       "10"
      ]
     },
     "execution_count": 6,
     "metadata": {},
     "output_type": "execute_result"
    }
   ],
   "source": [
    "a = 5\n",
    "2a"
   ]
  },
  {
   "cell_type": "markdown",
   "metadata": {},
   "source": [
    "円周率はデフォルトで入ってます。"
   ]
  },
  {
   "cell_type": "code",
   "execution_count": 7,
   "metadata": {},
   "outputs": [
    {
     "data": {
      "text/plain": [
       "π = 3.1415926535897..."
      ]
     },
     "execution_count": 7,
     "metadata": {},
     "output_type": "execute_result"
    }
   ],
   "source": [
    "π"
   ]
  },
  {
   "cell_type": "code",
   "execution_count": 8,
   "metadata": {},
   "outputs": [
    {
     "data": {
      "text/plain": [
       "9.42477796076938"
      ]
     },
     "execution_count": 8,
     "metadata": {},
     "output_type": "execute_result"
    }
   ],
   "source": [
    "3π"
   ]
  },
  {
   "cell_type": "markdown",
   "metadata": {},
   "source": [
    "慣例的に、以下のような変数名の付け方をします。  \n",
    "- 変数名はすべて小文字\n",
    "- ハイフンは使わない。\n",
    "- 自作の関数名は大文字から始める。  \n",
    "- 引数を破壊的関数名には!を最後につける"
   ]
  },
  {
   "cell_type": "markdown",
   "metadata": {},
   "source": [
    "## 2.2 関数の呼び出し方\n",
    "\n",
    "```関数```とは処理をひとまとめにしたものです。  \n",
    "以下のような書式と用語です。  \n",
    "```関数名(引数)```  \n",
    "与えた引数(値)に応じて様々な機能を提供してくれます。  \n",
    "たとえば、```println(引数)``` は引数を画面に表示してくれる関数です。\n",
    "\n",
    "例えば変数の型を見るtypeof()関数を使ってみましょう。  \n",
    "  \n",
    "変数は値を代入された瞬間に、  \n",
    "どういう種類の値が格納されるのか、メモリ容量を確保すればいいのか、  \n",
    "という情報を持ちます。  \n",
    "これを```型(type)```といいます。  \n",
    "  \n",
    "次に示すのは、  \n",
    "println関数に、typeof関数の結果を引数として与えたソースです。  "
   ]
  },
  {
   "cell_type": "code",
   "execution_count": 9,
   "metadata": {},
   "outputs": [
    {
     "name": "stdout",
     "output_type": "stream",
     "text": [
      "Int64\n",
      "String\n",
      "Bool\n"
     ]
    }
   ],
   "source": [
    "println( typeof(a) ) #Int64\n",
    "println( typeof(b) ) #String\n",
    "println( typeof(c) ) #Bool"
   ]
  },
  {
   "cell_type": "markdown",
   "metadata": {},
   "source": [
    "Juliaは様々な変数の型をもっています。例えば"
   ]
  },
  {
   "cell_type": "code",
   "execution_count": 10,
   "metadata": {},
   "outputs": [
    {
     "name": "stdout",
     "output_type": "stream",
     "text": [
      "Int64\n",
      "Float64\n",
      "String\n",
      "Complex{Int64}\n",
      "Bool\n",
      "Bool\n"
     ]
    }
   ],
   "source": [
    "println( typeof(1))\n",
    "println( typeof(1.0))\n",
    "println( typeof(\"文字列はstring\"))\n",
    "println( typeof(1im))\n",
    "println( typeof(true))\n",
    "println( typeof(false))"
   ]
  },
  {
   "cell_type": "markdown",
   "metadata": {},
   "source": [
    "IntはIntgerの略で整数、という意味です。  \n",
    "末尾の数字は64bit  \n",
    "より大きい数字を格納できます。  \n",
    "同様にFloatは浮動小数点のことです。  \n",
    "1 と 1．0 で型が異なることに注意です。  \n",
    "同じ種類の型同士であれば四則演算が可能です。  \n",
    "ここでは同じ種類というのは例えば数値型なら数値型、文字型なら文字型、という程度に覚えておいてください。  \n",
    "  \n",
    "※詳細に言うならば、同じ抽象型(Abstract type)のSubtypeなら四則演算が用意されていることが多い、です。  \n",
    "今は気にしなくておーけーです。  "
   ]
  },
  {
   "cell_type": "code",
   "execution_count": 11,
   "metadata": {},
   "outputs": [
    {
     "name": "stdout",
     "output_type": "stream",
     "text": [
      "7.5\n"
     ]
    }
   ],
   "source": [
    "d = 3\n",
    "e = 4.5\n",
    "println(d+e)"
   ]
  },
  {
   "cell_type": "code",
   "execution_count": 12,
   "metadata": {},
   "outputs": [
    {
     "name": "stdout",
     "output_type": "stream",
     "text": [
      "さようならまたあいましょう\n"
     ]
    }
   ],
   "source": [
    "f = \"さようなら\"\n",
    "g = \"またあいましょう\"\n",
    "println(f*g)"
   ]
  },
  {
   "cell_type": "code",
   "execution_count": 13,
   "metadata": {},
   "outputs": [
    {
     "name": "stdout",
     "output_type": "stream",
     "text": [
      "3 + 5im\n"
     ]
    }
   ],
   "source": [
    "h = 5im\n",
    "println(d + h)"
   ]
  },
  {
   "cell_type": "markdown",
   "metadata": {},
   "source": [
    "文字列の連結は```*```です。 他言語ですと+が多いですが、間違えないようにしましょう。   \n",
    "複素数は数字imで表記します。1imとかとします。  \n",
    "もちろん違う型同士だと、エラーが出ます。  \n",
    "  \n"
   ]
  },
  {
   "cell_type": "markdown",
   "metadata": {},
   "source": [
    "\n",
    "## 2.3 エラーの見方\n",
    "プログラムを書くと様々なエラーが発生します。  \n",
    "インタプリタは、エラーを検知するとエラーの種類や場所に応じてコメントを返します。  \n",
    "ここでは、エラーの見方を確認します。"
   ]
  },
  {
   "cell_type": "code",
   "execution_count": 14,
   "metadata": {},
   "outputs": [
    {
     "ename": "LoadError",
     "evalue": "MethodError: no method matching +(::Int64, ::String)\nClosest candidates are:\n  +(::Any, ::Any, !Matched::Any, !Matched::Any...) at operators.jl:538\n  +(::T, !Matched::T) where T<:Union{Int128, Int16, Int32, Int64, Int8, UInt128, UInt16, UInt32, UInt64, UInt8} at int.jl:86\n  +(::Integer, !Matched::Integer) at int.jl:918\n  ...",
     "output_type": "error",
     "traceback": [
      "MethodError: no method matching +(::Int64, ::String)\nClosest candidates are:\n  +(::Any, ::Any, !Matched::Any, !Matched::Any...) at operators.jl:538\n  +(::T, !Matched::T) where T<:Union{Int128, Int16, Int32, Int64, Int8, UInt128, UInt16, UInt32, UInt64, UInt8} at int.jl:86\n  +(::Integer, !Matched::Integer) at int.jl:918\n  ...",
      "",
      "Stacktrace:",
      " [1] top-level scope at In[14]:3",
      " [2] include_string(::Function, ::Module, ::String, ::String) at .\\loading.jl:1091"
     ]
    }
   ],
   "source": [
    "i = 10\n",
    "j = \"整数と文字列は足せない。\"\n",
    "println(i + j)"
   ]
  },
  {
   "cell_type": "markdown",
   "metadata": {},
   "source": [
    "コンパイルエラーが生じると、  \n",
    "様々な情報となぜエラーが出たか、おしえてくれます。  \n",
    "ここでは、\n",
    "```MethodError: no method matching +(::Int64, ::String)```\n",
    "というタイトルです。  \n",
    "juliaは内部で、四則演算すら関数として処理しています。  \n",
    "```a + b``` と  \n",
    "```+(a,b)``` は同じ意味です。"
   ]
  },
  {
   "cell_type": "code",
   "execution_count": 15,
   "metadata": {},
   "outputs": [
    {
     "name": "stdout",
     "output_type": "stream",
     "text": [
      "3\n"
     ]
    }
   ],
   "source": [
    "a = 1\n",
    "b = 2\n",
    "println(+(a,b))"
   ]
  },
  {
   "cell_type": "markdown",
   "metadata": {},
   "source": [
    "先ほどのエラーでは、Int64型と、String型を引数にとる関数+はありません。  \n",
    "という意味です。  \n",
    "```\n",
    "Stacktrace:\n",
    " [1] top-level scope at In[23]:3\n",
    " [2] include_string(::Function, ::Module, ::String, ::String) at .\\loading.jl:1091\n",
    "```\n",
    "の部分では、どこでこのエラーを感知したか、が書いてあります。  \n",
    "```[1]```ここが該当です。 若い番号から見ていけばいいと思います。  \n",
    "23セルの3行目、と書いてあります。   \n",
    "```[2]```はもっと深い階層、＋の定義部分です。  \n",
    "実際には様々なエラーがありますが、  \n",
    "大体理由が書いてあり、デバッグの重要なヒントです。  \n",
    "No method matchingを検出した場合には、  \n",
    "1．引数の型が適切か  \n",
    "2．変数のはずなのに関数適用してないか。(不必要なカッコがないか)  \n",
    "等を確認します。\n",
    "  \n",
    "エラーの数は数多ありますが、以下のものも頻出です。  "
   ]
  },
  {
   "cell_type": "code",
   "execution_count": 16,
   "metadata": {},
   "outputs": [
    {
     "ename": "LoadError",
     "evalue": "UndefVarError: nondefined not defined",
     "output_type": "error",
     "traceback": [
      "UndefVarError: nondefined not defined",
      "",
      "Stacktrace:",
      " [1] top-level scope",
      " [2] include_string(::Function, ::Module, ::String, ::String) at .\\loading.jl:1091"
     ]
    }
   ],
   "source": [
    "nondefined "
   ]
  },
  {
   "cell_type": "markdown",
   "metadata": {},
   "source": [
    "UndefVarError: xxxx not definedは宣言されていない変数を使ったときに出るエラーです。  \n",
    "誤字脱字がないか、チェックしてみましょう。  "
   ]
  },
  {
   "cell_type": "markdown",
   "metadata": {},
   "source": [
    "## 2.4 演算子"
   ]
  },
  {
   "cell_type": "markdown",
   "metadata": {},
   "source": [
    "演算子は演算を表すシンボルです。  \n",
    "たくさんあるので、取り急ぎ必要なものだけピックアップします。\n",
    "\n",
    "**算術演算子**\n",
    "\n",
    "|式\t   | 名前|\t説明|\n",
    "| ---- | ---- | ---- |\n",
    "|+x   |  単項加算|\t恒等演算|\n",
    "|-x   | \t単項減算|\t加算の逆元への関数|\n",
    "|x + y|\t二項加算|\t加算を実行|\n",
    "|x - y|\t二項減算|\t減算を実行|\n",
    "|x * y|\t乗算    |\t乗算を実行|\n",
    "|x / y|\t除算    |\t除算を実行|\n",
    "|x ÷ y|\t整数除算|\tx / y, 整数に切り捨て|\n",
    "|x \\ y|\t逆除算  |\ty / xと同等|\n",
    "|x ^ y|\t巾      |\tx の y乗|\n",
    "|x % y|\t剰余算  |\trem(x,y)と同等|\n",
    "|x += y|\t加算代入  |\tx = x + yと同等|\n",
    "|x -= y|\t減算代入  |\tx = x ― yと同等|\n",
    "\n",
    "**比較演算子**\n",
    "\n",
    "|  演算  |  名前  |\n",
    "| ----  |  ---- |\n",
    "|  ==  |  等号  |\n",
    "|  !=  |  ≠不等号  |\n",
    "|  <   |  未満  |\n",
    "|  <=  |  以下  |\n",
    "|  >  |  より大きい  |\n",
    "|  >=  |  以上  |\n",
    "\n",
    "\n",
    "後はここ見てください。  \n",
    "https://mnru.github.io/julia-doc-ja-v1.0/manual/mathematical-operations.html  \n",
    "必要なときに各種説明します。  "
   ]
  },
  {
   "cell_type": "code",
   "execution_count": 17,
   "metadata": {},
   "outputs": [
    {
     "name": "stdout",
     "output_type": "stream",
     "text": [
      "2.5\n",
      "1\n",
      "0.4\n",
      "7\n"
     ]
    }
   ],
   "source": [
    "a = 5\n",
    "b = 2\n",
    "\n",
    "println(a / b)\n",
    "println(a % b)\n",
    "println(a \\ b)\n",
    "a += b\n",
    "println(a)"
   ]
  },
  {
   "cell_type": "markdown",
   "metadata": {},
   "source": [
    "逆除算は行列計算の時にも使いますが、  \n",
    "数値の時は a分のbという読み方になります。\n"
   ]
  },
  {
   "cell_type": "code",
   "execution_count": 18,
   "metadata": {},
   "outputs": [
    {
     "name": "stdout",
     "output_type": "stream",
     "text": [
      "true\n",
      "false\n",
      "true\n"
     ]
    }
   ],
   "source": [
    "a = 2\n",
    "b = 3\n",
    "\n",
    "println(a<b)\n",
    "println(a>b)\n",
    "println(a!=b)"
   ]
  },
  {
   "cell_type": "markdown",
   "metadata": {},
   "source": [
    "## 2.5 コレクション\n",
    "  \n",
    "コレクションとは、1つの変数に複数の値を保持できるタンスのようなものです。  \n",
    "コレクションの種類にはリスト、タプル、辞書などがあります。\n",
    "\n"
   ]
  },
  {
   "cell_type": "markdown",
   "metadata": {},
   "source": [
    "### 2.5.1 ベクトル(リスト) \n",
    "\n",
    "ベクトルは**データ長可変のコレクション**です。  \n",
    "``` a = [2,4,6] ```  \n",
    "のように定義します。  \n",
    "ここで、コレクションに含まれる値のことを``` 要素(element) ``` といいます。  \n",
    "ベクトル ``` a ``` には三つの要素が含まれています。  \n",
    "一番目は2、二番目は4、三番目は6です。  \n",
    "どこの場所に含まれているか、それを示す番号を``` 添え字(index) ``` または ``` インデックス ``` といいます。  \n",
    "リストの要素を参照するためには下記のようにします。  \n",
    "  \n",
    "また、Juliaのベクトルは列方向に配置されます。  \n",
    "視覚的に改行を用いて\n",
    "```\n",
    "b = [\n",
    "2\n",
    "4\n",
    "6\n",
    "]\n",
    "```\n",
    "という風に定義することも可能です。  "
   ]
  },
  {
   "cell_type": "markdown",
   "metadata": {},
   "source": [
    "要素へのアクセスは、  \n",
    "```a[インデックス] ``` とします。  \n",
    "Julia言語は**先頭要素へのアクセスは添え字1番**からです。  \n",
    "これはFortlanなどと同じですが、C言語やPythonとは異なります。  \n",
    " \n"
   ]
  },
  {
   "cell_type": "code",
   "execution_count": 19,
   "metadata": {},
   "outputs": [
    {
     "name": "stdout",
     "output_type": "stream",
     "text": [
      "[2, 4, 6]\n",
      "2\n",
      "4\n",
      "6\n",
      "true\n"
     ]
    }
   ],
   "source": [
    "a = [2,4,6]\n",
    "println( a )\n",
    "\n",
    "println( a[1] )\n",
    "println( a[2] )\n",
    "println( a[3] )\n",
    "b = [\n",
    "    2\n",
    "    4\n",
    "    6\n",
    "]\n",
    "\n",
    "println( a==b)\n"
   ]
  },
  {
   "cell_type": "markdown",
   "metadata": {},
   "source": [
    "Julia のベクトルは、次元数1の、  \n",
    "``` Array[要素の型,次元数]```  \n",
    "という型で定義されています。  \n",
    "多次元配列については最後に書きます。  "
   ]
  },
  {
   "cell_type": "code",
   "execution_count": 20,
   "metadata": {},
   "outputs": [
    {
     "name": "stdout",
     "output_type": "stream",
     "text": [
      "Array{Int64,1}\n"
     ]
    }
   ],
   "source": [
    "println(typeof(a))"
   ]
  },
  {
   "cell_type": "markdown",
   "metadata": {},
   "source": [
    "Array型を定義する関数は多数用意されています。  \n",
    "以下にいくつか紹介します。  "
   ]
  },
  {
   "cell_type": "code",
   "execution_count": 21,
   "metadata": {},
   "outputs": [
    {
     "data": {
      "text/plain": [
       "3-element Array{Float64,1}:\n",
       " 0.0\n",
       " 0.0\n",
       " 0.0"
      ]
     },
     "execution_count": 21,
     "metadata": {},
     "output_type": "execute_result"
    }
   ],
   "source": [
    "a = zeros(3)"
   ]
  },
  {
   "cell_type": "code",
   "execution_count": 22,
   "metadata": {},
   "outputs": [
    {
     "data": {
      "text/plain": [
       "3-element Array{Int64,1}:\n",
       " 5\n",
       " 5\n",
       " 5"
      ]
     },
     "execution_count": 22,
     "metadata": {},
     "output_type": "execute_result"
    }
   ],
   "source": [
    "b = fill(5,3)"
   ]
  },
  {
   "cell_type": "code",
   "execution_count": 23,
   "metadata": {},
   "outputs": [
    {
     "data": {
      "text/plain": [
       "3-element Array{Float64,1}:\n",
       " 1.0\n",
       " 1.0\n",
       " 1.0"
      ]
     },
     "execution_count": 23,
     "metadata": {},
     "output_type": "execute_result"
    }
   ],
   "source": [
    "c = ones(3)"
   ]
  },
  {
   "cell_type": "markdown",
   "metadata": {},
   "source": [
    "要素を追加したいときには、push!()関数を使います。  \n",
    "他にも配列操作のための関数が用意されています。  "
   ]
  },
  {
   "cell_type": "code",
   "execution_count": 24,
   "metadata": {},
   "outputs": [
    {
     "name": "stdout",
     "output_type": "stream",
     "text": [
      "[2, 4, 6]\n",
      "[2, 4, 6, 8]\n",
      "8\n",
      "[2, 4, 6]\n",
      "[2, 10, 4, 6]\n",
      "[2, 10, 6]\n"
     ]
    }
   ],
   "source": [
    "a = [2,4,6]\n",
    "println(a)\n",
    "\n",
    " # 末尾への追加\n",
    "push!(a,8)\n",
    "println(a)\n",
    "\n",
    " # 末尾のとりだし\n",
    "b = pop!(a)\n",
    "println(b)\n",
    "println(a)\n",
    "\n",
    "#i番目に要素を挿入\n",
    "insert!(a, 2, 10)\n",
    "println(a)\n",
    "\n",
    "#i番目を削除  \n",
    "deleteat!(a, 3)\n",
    "println(a)"
   ]
  },
  {
   "cell_type": "markdown",
   "metadata": {},
   "source": [
    "Julia言語では慣例的に、**引数を破壊する関数には関数名の末尾に``` ! ```をつけます**。  \n",
    "  \n",
    "``` push!(a) ``` をする前のa と、した後のaは異なるものです。  "
   ]
  },
  {
   "cell_type": "markdown",
   "metadata": {},
   "source": [
    "### 2.5.2 タプル\n",
    "タプルはリストと違い **変更不可能なコレクション** です。  \n",
    "変更不可能なことを**inmutable**  \n",
    "変更可能なことを**mutable**  \n",
    "といいます。  \n",
    "宣言の仕方は  \n",
    "タプル名 = (要素, 要素)\n",
    "とします。  \n"
   ]
  },
  {
   "cell_type": "code",
   "execution_count": 25,
   "metadata": {},
   "outputs": [
    {
     "name": "stdout",
     "output_type": "stream",
     "text": [
      "B4\n",
      "M1\n",
      "M2\n"
     ]
    }
   ],
   "source": [
    "class = (\"B4\", \"M1\", \"M2\")\n",
    "println( class[1] )\n",
    "println( class[2] )\n",
    "println( class[3] )"
   ]
  },
  {
   "cell_type": "code",
   "execution_count": 26,
   "metadata": {},
   "outputs": [
    {
     "ename": "LoadError",
     "evalue": "MethodError: no method matching setindex!(::Tuple{String,String,String}, ::String, ::Int64)",
     "output_type": "error",
     "traceback": [
      "MethodError: no method matching setindex!(::Tuple{String,String,String}, ::String, ::Int64)",
      "",
      "Stacktrace:",
      " [1] top-level scope at In[26]:1",
      " [2] include_string(::Function, ::Module, ::String, ::String) at .\\loading.jl:1091"
     ]
    }
   ],
   "source": [
    "class[1] = \"D1\""
   ]
  },
  {
   "cell_type": "markdown",
   "metadata": {},
   "source": [
    "### 2.5.3 辞書\n",
    "辞書は **要素がキーと値がペアになったコレクション** です。  \n",
    "辞書はmutableです。  \n",
    "辞書名=Dict(キー=>値,キー=>値)とします。"
   ]
  },
  {
   "cell_type": "code",
   "execution_count": 27,
   "metadata": {},
   "outputs": [
    {
     "name": "stdout",
     "output_type": "stream",
     "text": [
      "Matsumoto\n",
      "Inaba\n"
     ]
    }
   ],
   "source": [
    "Bz = Dict(\"Vocal\" => \"Inaba\", \"Guiter\" => \"Matsumoto\")\n",
    "\n",
    "println(Bz[\"Guiter\"])\n",
    "println(Bz[\"Vocal\"])"
   ]
  },
  {
   "cell_type": "markdown",
   "metadata": {},
   "source": [
    "他言語学習者向け：  \n",
    "ここで、``` =>```という演算子はPairというオブジェクトを実現しています。  \n",
    "[Pairオブジェクトの定義](https://github.com/JuliaLang/julia/blob/2fc3dcdaecc0f77fee56400ee80752cc81c8dfb0/base/pair.jl#L3-L16)  \n",
    "PairはFirstとSecondという要素を持つ構造体です。  \n",
    "構造体については後程やります。  \n",
    "Dict関数にPairオブジェクトを与えることで、辞書を実現しています。  \n",
    "Juliaは超低階層のところ以外をJuliaで開発されているうえ、  \n",
    "すべてのコードはGithubで公開されています。  \n",
    "コードを読むことによって新たな知見、広く拓かれた書き方が身につくと思います。  "
   ]
  },
  {
   "cell_type": "markdown",
   "metadata": {},
   "source": [
    "### 2.5.4 Range  \n",
    "リストと似たようなものに、Range型が用意されています。  \n",
    "Rangeは``` : ``` を使って表します。  \n",
    "``` start:stop ```   \n",
    "``` start:step:stop ```  \n",
    "とします。  \n",
    "または``` range() ```関数も用意されています。\n",
    "``` range(start,length = xx) ```  \n",
    "これは  \n",
    "``` start:stop```  \n",
    "と等価です。  \n",
    "そのほか、長さを決めたりもできます。"
   ]
  },
  {
   "cell_type": "code",
   "execution_count": 28,
   "metadata": {},
   "outputs": [
    {
     "name": "stdout",
     "output_type": "stream",
     "text": [
      "1:10\n",
      "0.0:0.1:1.0\n",
      "1:10\n",
      "0.0:0.1:1.0\n",
      "0.0:0.1:1.0\n"
     ]
    }
   ],
   "source": [
    "println( 1 : 10) # 要素数は10個です\n",
    "println( 0 :0.1: 1)\n",
    "println( range(1, length = 10))\n",
    "println( range(0, 1, length = 11))\n",
    "println( range(0, step = 0.1, length =11))"
   ]
  },
  {
   "cell_type": "markdown",
   "metadata": {},
   "source": [
    "### 2.5.5 多次元配列\n",
    "  \n",
    "多次元配列は配列の中に配列が入った、いわゆる行列です。  \n",
    "Juliaでは一次元配列をベクトル、二次元以上の配列を行列(マトリックス)として区別します。  \n",
    "視覚的に以下のようにも表現できますが\n",
    "\n"
   ]
  },
  {
   "cell_type": "code",
   "execution_count": 29,
   "metadata": {},
   "outputs": [
    {
     "data": {
      "text/plain": [
       "2×3 Array{Int64,2}:\n",
       " 1  2  3\n",
       " 4  5  6"
      ]
     },
     "execution_count": 29,
     "metadata": {},
     "output_type": "execute_result"
    }
   ],
   "source": [
    "a= [\n",
    "    1 2 3\n",
    "    4 5 6\n",
    "]"
   ]
  },
  {
   "cell_type": "markdown",
   "metadata": {},
   "source": [
    "関数を使って生成した方が分かりやすいかと思います。  \n",
    "ベクトルの時に紹介した関数は多次元配列も容易に作成できます。"
   ]
  },
  {
   "cell_type": "code",
   "execution_count": 30,
   "metadata": {},
   "outputs": [
    {
     "data": {
      "text/plain": [
       "2×4 Array{Float64,2}:\n",
       " 0.0  0.0  0.0  0.0\n",
       " 0.0  0.0  0.0  0.0"
      ]
     },
     "execution_count": 30,
     "metadata": {},
     "output_type": "execute_result"
    }
   ],
   "source": [
    "a = zeros(2,4)"
   ]
  },
  {
   "cell_type": "code",
   "execution_count": 31,
   "metadata": {},
   "outputs": [
    {
     "data": {
      "text/plain": [
       "2×4 Array{Float64,2}:\n",
       " 1.0  1.0  1.0  1.0\n",
       " 1.0  1.0  1.0  1.0"
      ]
     },
     "execution_count": 31,
     "metadata": {},
     "output_type": "execute_result"
    }
   ],
   "source": [
    "b = ones(2,4)"
   ]
  },
  {
   "cell_type": "code",
   "execution_count": 32,
   "metadata": {},
   "outputs": [
    {
     "data": {
      "text/plain": [
       "2×4 Array{Int64,2}:\n",
       " 10  10  10  10\n",
       " 10  10  10  10"
      ]
     },
     "execution_count": 32,
     "metadata": {},
     "output_type": "execute_result"
    }
   ],
   "source": [
    "c = fill(10, 2, 4)"
   ]
  },
  {
   "cell_type": "markdown",
   "metadata": {},
   "source": [
    "## 2.6 条件評価\n",
    "条件が真のとき(正しいとき)と偽のとき（正しくないとき）の処理を振り分ける構文は以下のようにします。  \n",
    "\n",
    "```\n",
    "  if x < y\n",
    "      println(\"x is less than y\")\n",
    "  elseif x > y\n",
    "      println(\"x is greater than y\")\n",
    "  else\n",
    "      println(\"x is equal to y\")\n",
    "  end\n",
    "```\n",
    "\n",
    "elseif もしくはelse は省略可能です。  \n",
    "if --- end  \n",
    "で一区切り。"
   ]
  },
  {
   "cell_type": "code",
   "execution_count": 33,
   "metadata": {},
   "outputs": [
    {
     "name": "stdout",
     "output_type": "stream",
     "text": [
      "x is greater than y\n",
      "x is less than y\n",
      "x is equal to y\n"
     ]
    }
   ],
   "source": [
    "x = 10\n",
    "y = 5\n",
    "\n",
    "  if x < y\n",
    "      println(\"x is less than y\")\n",
    "  elseif x > y\n",
    "      println(\"x is greater than y\")\n",
    "  else\n",
    "      println(\"x is equal to y\")\n",
    "  end\n",
    "\n",
    "y = 20\n",
    "\n",
    "  if x < y\n",
    "      println(\"x is less than y\")\n",
    "  elseif x > y\n",
    "      println(\"x is greater than y\")\n",
    "  else\n",
    "      println(\"x is equal to y\")\n",
    "  end\n",
    "\n",
    "y= 10\n",
    "\n",
    "  if x < y\n",
    "      println(\"x is less than y\")\n",
    "  elseif x > y\n",
    "      println(\"x is greater than y\")\n",
    "  else\n",
    "      println(\"x is equal to y\")\n",
    "  end"
   ]
  },
  {
   "cell_type": "markdown",
   "metadata": {},
   "source": [
    "## 2.7 反復操作"
   ]
  },
  {
   "cell_type": "markdown",
   "metadata": {},
   "source": [
    "反復操作はある条件に従って、複数回同様の処理を繰り返すことを言います。  \n",
    "\n",
    "### 2.7.1 for\n",
    "for 文はコレクションを使って繰り返しを行う処理です。  \n",
    "以下のような構文です。  \n",
    "```\n",
    "for i in [correction]\n",
    "\n",
    "\n",
    "end\n",
    "\n",
    "```\n",
    "コレクションの中身がiに代入されます。  \n",
    "コレクションがすべて使われると、forは終了します。  "
   ]
  },
  {
   "cell_type": "code",
   "execution_count": 34,
   "metadata": {},
   "outputs": [
    {
     "name": "stdout",
     "output_type": "stream",
     "text": [
      "1\n",
      "2\n",
      "3\n"
     ]
    }
   ],
   "source": [
    "a = [1,2,3]\n",
    "for i in a\n",
    "    println(i)\n",
    "end"
   ]
  },
  {
   "cell_type": "code",
   "execution_count": 35,
   "metadata": {},
   "outputs": [
    {
     "name": "stdout",
     "output_type": "stream",
     "text": [
      "1\n",
      "2\n",
      "3\n",
      "4\n",
      "5\n",
      "6\n",
      "7\n",
      "8\n",
      "9\n",
      "10\n"
     ]
    }
   ],
   "source": [
    "a = 1 : 10\n",
    "\n",
    "for x in a\n",
    "    println(x)\n",
    "end"
   ]
  },
  {
   "cell_type": "code",
   "execution_count": 36,
   "metadata": {},
   "outputs": [
    {
     "name": "stdout",
     "output_type": "stream",
     "text": [
      "1.0 1.0 2.0\n",
      "1.0 2.0 3.0\n",
      "1.0 3.0 4.0\n",
      "1.0 4.0 5.0\n",
      "1.0 5.0 6.0\n",
      "2.0 1.0 3.0\n",
      "2.0 2.0 4.0\n",
      "2.0 3.0 5.0\n",
      "2.0 4.0 6.0\n",
      "2.0 5.0 7.0\n",
      "3.0 1.0 4.0\n",
      "3.0 2.0 5.0\n",
      "3.0 3.0 6.0\n",
      "3.0 4.0 7.0\n",
      "3.0 5.0 8.0\n",
      "4.0 1.0 5.0\n",
      "4.0 2.0 6.0\n",
      "4.0 3.0 7.0\n",
      "4.0 4.0 8.0\n",
      "4.0 5.0 9.0\n",
      "5.0 1.0 6.0\n",
      "5.0 2.0 7.0\n",
      "5.0 3.0 8.0\n",
      "5.0 4.0 9.0\n",
      "5.0 5.0 10.0\n"
     ]
    }
   ],
   "source": [
    "for n in range(1,5, length = 5)\n",
    "    for m in range(1,5, length = 5)\n",
    "        println(n,\" \" ,m,\" \", (n+m))\n",
    "    end\n",
    "end"
   ]
  },
  {
   "cell_type": "markdown",
   "metadata": {},
   "source": [
    "最後の例のように、繰り返し文は入れ子構造も可能です。  \n",
    "この入れ子にすることを**ネスト** といいます。  \n",
    "条件分岐と組み合わせることも当然、可能です。"
   ]
  },
  {
   "cell_type": "code",
   "execution_count": 37,
   "metadata": {},
   "outputs": [
    {
     "name": "stdout",
     "output_type": "stream",
     "text": [
      "2\n",
      "4\n",
      "6\n",
      "8\n",
      "10\n",
      "12\n",
      "14\n",
      "16\n",
      "18\n",
      "20\n"
     ]
    }
   ],
   "source": [
    "for n in 1:20\n",
    "    if n % 2 == 0\n",
    "        println(n)\n",
    "    end\n",
    "end"
   ]
  },
  {
   "cell_type": "markdown",
   "metadata": {},
   "source": [
    "### 2.7.2 while\n",
    "whileは条件にあうまで、ループを繰り返す処理です。  \n"
   ]
  },
  {
   "cell_type": "code",
   "execution_count": 38,
   "metadata": {},
   "outputs": [],
   "source": [
    "\n",
    "while i < 10\n",
    "   println(i)\n",
    "   i += 1\n",
    "end"
   ]
  },
  {
   "cell_type": "markdown",
   "metadata": {},
   "source": [
    "初期条件でiを宣言する必要があることに気を付けましょう。   "
   ]
  },
  {
   "cell_type": "markdown",
   "metadata": {},
   "source": [
    "## 2.8 関数\n",
    "関数は処理をひとまとめにして名前を付けるものです。  \n",
    "ここまで、println関数や、typeof関数を使いました。  \n",
    "\n",
    "ここでJuliaの特性として、  \n",
    "**関数をJITコンパイルにかける**  \n",
    "というものがあります。  \n",
    "後程高速化の部分で比較してみますが、juliaの場合、  \n",
    "すべての処理は関数としてまとめる必要があります。  \n",
    "  \n",
    "関数宣言は以下のようにします。  \n",
    "```\n",
    "function 関数名(引数)\n",
    "    処理\n",
    "end\n",
    "```\n"
   ]
  },
  {
   "cell_type": "code",
   "execution_count": 39,
   "metadata": {},
   "outputs": [
    {
     "data": {
      "text/plain": [
       "20"
      ]
     },
     "execution_count": 39,
     "metadata": {},
     "output_type": "execute_result"
    }
   ],
   "source": [
    "function retdouble!(x)\n",
    "    x = 2x\n",
    "    return x\n",
    "end\n",
    "\n",
    "a = 10\n",
    "retdouble!(a)"
   ]
  },
  {
   "cell_type": "markdown",
   "metadata": {},
   "source": [
    "return を明示して、xを関数の外に出しています。  \n",
    "このことを、**結果を返す**といいます。  \n",
    "Juliaの場合、returnを明示しなくても、  \n",
    "最後に評価された値が返されるので、上の関数では  \n",
    "returnがなくてもあっても同じです。  "
   ]
  },
  {
   "cell_type": "markdown",
   "metadata": {},
   "source": [
    "関数としてまとめる部分は、  \n",
    "- 処理が複数回出てくる\n",
    "- 計算処理を含み重い部分\n",
    "- 処理が複雑で、デバッグに手間取りそうな部分  \n",
    "などが考えられます。  \n",
    "最初のうちは手当たり次第に関数化してしまってもいいと思います。  \n",
    "しないよりましです。"
   ]
  },
  {
   "cell_type": "markdown",
   "metadata": {},
   "source": [
    "単純な関数であれば、\n",
    "```f(x) = 関数 ```とすることができます。  \n"
   ]
  },
  {
   "cell_type": "code",
   "execution_count": 2,
   "metadata": {},
   "outputs": [
    {
     "name": "stdout",
     "output_type": "stream",
     "text": [
      "15\n",
      "21\n"
     ]
    }
   ],
   "source": [
    "f(x) = x*2 + 4x + 3\n",
    "println(f(2))\n",
    "println(f(3))"
   ]
  },
  {
   "cell_type": "code",
   "execution_count": 5,
   "metadata": {},
   "outputs": [
    {
     "name": "stdout",
     "output_type": "stream",
     "text": [
      "6\n",
      "14\n"
     ]
    }
   ],
   "source": [
    "#複数変数も可能です。\n",
    "f(x,y) = x^2 + y^2 + 1\n",
    "println( f(1,2))\n",
    "println( f(2,3))"
   ]
  },
  {
   "cell_type": "markdown",
   "metadata": {},
   "source": [
    "## 2.9 マクロ\n",
    " \n",
    "関数は処理をひとまとめにして名前を付けるものでした。  \n",
    "マクロは**プログラムの構文自体を書き換えて、インタプリタに渡す機能です。**  \n",
    "このようにプログラムによって、隠匿してプログラムを書き換えることを  \n",
    "**メタプログラミング** といいます。  \n",
    "近代プログラミング言語には導入されていることが多いです  \n",
    "  \n",
    "以下のプログラムを見てみましょう。   "
   ]
  },
  {
   "cell_type": "code",
   "execution_count": 63,
   "metadata": {},
   "outputs": [
    {
     "name": "stdout",
     "output_type": "stream",
     "text": [
      "a = [0.0 0.0 0.0; 0.0 0.0 0.0; 0.0 0.0 0.0]\n"
     ]
    }
   ],
   "source": [
    "a = zeros(3,3)\n",
    "\n",
    "@show a;"
   ]
  },
  {
   "cell_type": "markdown",
   "metadata": {},
   "source": [
    "@show マクロは変数の型や内容をREPLに表示するマクロです。  \n",
    "printlnと似てます。比較してみましょう。  "
   ]
  },
  {
   "cell_type": "code",
   "execution_count": 41,
   "metadata": {},
   "outputs": [
    {
     "name": "stdout",
     "output_type": "stream",
     "text": [
      "[0.0 0.0 0.0; 0.0 0.0 0.0; 0.0 0.0 0.0]\n"
     ]
    }
   ],
   "source": [
    "println(a)"
   ]
  },
  {
   "cell_type": "markdown",
   "metadata": {},
   "source": [
    "@show のいいところは、型定義の段階で、  \n",
    "どういう情報を明示するか、開発者側が定義できるということです。  \n",
    "デバッグ時には変数の中身を随時確認しながら  \n",
    "\n",
    "printlnより明確な情報が得られますので、  \n",
    "今後表示はすべて@showを使います。  \n",
    "  \n",
    "マクロも数多用意されています(自分で定義もできますが、)  \n",
    "他に便利なものとしては、@timeがあります。  \n"
   ]
  },
  {
   "cell_type": "code",
   "execution_count": 52,
   "metadata": {},
   "outputs": [
    {
     "name": "stdout",
     "output_type": "stream",
     "text": [
      " 10.717906 seconds (9.08 k allocations: 141.891 KiB)\n",
      "count = 9592\n"
     ]
    },
    {
     "data": {
      "text/plain": [
       "9592"
      ]
     },
     "execution_count": 52,
     "metadata": {},
     "output_type": "execute_result"
    }
   ],
   "source": [
    "count = 0\n",
    "@time for i in 1:100000\n",
    "    yakusuu=0\n",
    "    for j in 1:i\n",
    "        if i%j == 0\n",
    "            yakusuu += 1\n",
    "        end\n",
    "\n",
    "    end\n",
    "    if(yakusuu==2) \n",
    "        global count+=1 \n",
    "    end\n",
    "end\n",
    "@show count"
   ]
  },
  {
   "cell_type": "markdown",
   "metadata": {},
   "source": [
    "上の関数は素数の数をカウントするプログラムです。  \n",
    "(コード最適化はしていません。偶数はぶいたりでもっと早くなります。)  \n",
    "for の前に@timeを付けることで、  \n",
    "処理にかかる時間とメモリアロケート(確保量)をカウントすることができます。  \n",
    "私のパソコンですと、大体11秒ぐらいかかりました。  \n",
    "12行目のglobalについてはあとで説明します。  \n",
    "  \n",
    "さて、上記の処理を関数化してみましょう。"
   ]
  },
  {
   "cell_type": "code",
   "execution_count": 53,
   "metadata": {},
   "outputs": [
    {
     "name": "stdout",
     "output_type": "stream",
     "text": [
      "count = 9592\n",
      "  9.619734 seconds (36 allocations: 1.062 KiB)\n"
     ]
    },
    {
     "data": {
      "text/plain": [
       "9592"
      ]
     },
     "execution_count": 53,
     "metadata": {},
     "output_type": "execute_result"
    }
   ],
   "source": [
    "function sosuu()\n",
    "    count = 0\n",
    "    for i in 1:100000\n",
    "        yakusuu=0\n",
    "        for j in 1:i\n",
    "            if i%j == 0\n",
    "                yakusuu += 1\n",
    "            end\n",
    "\n",
    "        end\n",
    "        if(yakusuu==2) \n",
    "            count+=1 \n",
    "        end\n",
    "    end\n",
    "    @show count\n",
    "end\n",
    "@time sosuu()"
   ]
  },
  {
   "cell_type": "markdown",
   "metadata": {},
   "source": [
    "関数化前と比較して1秒と少し早くなりました。  \n",
    "関数化するだけでコンパイルがかかり高速化します。\n",
    "    \n",
    "   \n",
    "  \n",
    "ちなみにpythonで同じのを実行したら、397秒かかりました。  \n",
    "壊れたかと思いました。"
   ]
  },
  {
   "cell_type": "markdown",
   "metadata": {},
   "source": [
    "このように、マクロを使うことでより簡便に便利な機能を享受することが可能です。  \n",
    "他にも  \n",
    "様々なマクロがありますので、折をみて紹介していきます。  "
   ]
  },
  {
   "cell_type": "markdown",
   "metadata": {},
   "source": [
    "\n",
    "#### スコープについて  \n",
    "Juliaはforや関数の外にある変数を書き換えるときには、  \n",
    "上記のようにglobalを付ける必要があります。  \n",
    "このように、プログラムが変数を参照できる範囲のことを```スコープ```といいます。  \n",
    "  \n",
    "Juliaは、```グローバルスコープ```と```ローカルスコープ```があり、  \n",
    "for、while、関数定義、structなどは新しいローカルスコープを導入します。  \n",
    "一旦ローカルスコープを作ってしまえば、その中でネストされても、上位のローカルスコープは参照可能です。  \n",
    "ローカルスコープから、グローバルスコープを参照する場合には  \n",
    "global を付ける必要があります。\n",
    "```\n",
    "#####グローバルスコープ-ここから-\n",
    "count = 0\n",
    "\n",
    "@time for i in 1:100000    #****ローカルスコープ-ここから-\n",
    "    yakusuu=0\n",
    "    for j in 1:i\n",
    "        if i%j == 0\n",
    "            yakusuu += 1\n",
    "        end\n",
    "\n",
    "    end\n",
    "    if(yakusuu==2) \n",
    "        global count+=1 \n",
    "    end\n",
    "end                      #****ローカルスコープ-ここまで-\n",
    "\n",
    "@show count\n",
    "#####グローバルスコープ-ここまで-\n",
    "```\n",
    "  \n",
    "ローカルスコープ内からグローバルスコープのcountを参照しているので、\n",
    "globalを付ける必要があります。  \n",
    "  \n",
    "一方、関数化した方では、関数自体がローカルスコープを作っているため、  \n",
    "関数内のconstにアクセスするのにglobalは必要ありません。  "
   ]
  },
  {
   "cell_type": "markdown",
   "metadata": {},
   "source": [
    "## 2.10 ドット演算子とブロードキャスト\n",
    "ここでは、ドット演算子とブロードキャストについて説明する。  \n",
    "プロットする場合など  \n",
    "x = range(0,stop = 10, length =200)などとして、  \n",
    "x軸を決めて、表示したい関数、例えばy = sin(x)としたくなります。  \n",
    "しかしながら、rangeの提供する型UnitRange{T}に対しての関数は用意されておらず、    \n",
    "```sin(x::UnitRange{T})  ```\n",
    "はno method matchingとなります。  \n",
    "  \n",
    "若干脱線しますが、  \n",
    "このレンジが提供する型UnitRange{T}のTはInt64やFloat64など、  \n",
    "レンジ内の要素が持つ型になります、  \n",
    "他にもArray{T,1}などでこのような書き方をします。  \n",
    "\n",
    "例えば、プロットではなくても、  \n",
    "```\n",
    "a = [\n",
    "1 4\n",
    "5 6\n",
    "]\n",
    "```\n",
    "のような二次元配列すべてに大して同様の演算をしたい、例えば2をかけたりしたい場合、  \n",
    "fill(2,2,2)を使い新たに行列を用意するのは非常に非効率です。  \n",
    "  \n",
    "他にも座標マップ上の複素電界すべてに対して絶対値を取りたい、のような場合もあるでしょう。  \n",
    "このような場合、ドット演算子を使ったブロードキャストが有効です。  "
   ]
  },
  {
   "cell_type": "code",
   "execution_count": 58,
   "metadata": {},
   "outputs": [
    {
     "name": "stdout",
     "output_type": "stream",
     "text": [
      "sin.(a) = [2.4492935982947064e-16, 0.34202014332566866, -0.6427876096865393, 0.8660254037844387, -0.9848077530122081, 0.984807753012208, -0.8660254037844387, 0.6427876096865384, -0.34202014332566777, -7.347880794884119e-16]\n"
     ]
    },
    {
     "data": {
      "text/plain": [
       "10-element Array{Float64,1}:\n",
       "  2.4492935982947064e-16\n",
       "  0.34202014332566866\n",
       " -0.6427876096865393\n",
       "  0.8660254037844387\n",
       " -0.9848077530122081\n",
       "  0.984807753012208\n",
       " -0.8660254037844387\n",
       "  0.6427876096865384\n",
       " -0.34202014332566777\n",
       " -7.347880794884119e-16"
      ]
     },
     "execution_count": 58,
     "metadata": {},
     "output_type": "execute_result"
    }
   ],
   "source": [
    "a = range(-2π,stop = 6π, length = 10)\n",
    "# sin(a) エラー\n",
    "@show sin.(a)"
   ]
  },
  {
   "cell_type": "code",
   "execution_count": 2,
   "metadata": {},
   "outputs": [
    {
     "name": "stdout",
     "output_type": "stream",
     "text": [
      "a .+ 1 = 2:11\n"
     ]
    },
    {
     "data": {
      "text/plain": [
       "2:11"
      ]
     },
     "execution_count": 2,
     "metadata": {},
     "output_type": "execute_result"
    }
   ],
   "source": [
    "a = 1:10\n",
    "@show a .+ 1\n",
    "# a + 1 これはエラー"
   ]
  },
  {
   "cell_type": "code",
   "execution_count": 1,
   "metadata": {},
   "outputs": [
    {
     "name": "stdout",
     "output_type": "stream",
     "text": [
      "a .* 2 = [2 4 6; 8 10 12; 14 16 18]\n"
     ]
    },
    {
     "data": {
      "text/plain": [
       "3×3 Array{Int64,2}:\n",
       "  2   4   6\n",
       "  8  10  12\n",
       " 14  16  18"
      ]
     },
     "execution_count": 1,
     "metadata": {},
     "output_type": "execute_result"
    }
   ],
   "source": [
    "a = [\n",
    "    1 2 3\n",
    "    4 5 6\n",
    "    7 8 9]\n",
    "@show a .* 2\n",
    "# a * 2 これはエラー"
   ]
  },
  {
   "cell_type": "markdown",
   "metadata": {},
   "source": [
    "自作の関数にも当然適用可能です。  \n"
   ]
  },
  {
   "cell_type": "code",
   "execution_count": 8,
   "metadata": {},
   "outputs": [
    {
     "name": "stdout",
     "output_type": "stream",
     "text": [
      "f.(i) = [4, 9, 16, 25]\n"
     ]
    },
    {
     "data": {
      "text/plain": [
       "4-element Array{Int64,1}:\n",
       "  4\n",
       "  9\n",
       " 16\n",
       " 25"
      ]
     },
     "execution_count": 8,
     "metadata": {},
     "output_type": "execute_result"
    }
   ],
   "source": [
    "f(x) = x^2 + 2x + 1\n",
    "i = 1:4\n",
    "@show f.(i)"
   ]
  },
  {
   "cell_type": "markdown",
   "metadata": {},
   "source": [
    "二次元の座標マップを作るためには、  \n",
    "xとyのrangeを用意して、  \n",
    "```xと、yの転置行列 y' ```  \n",
    "に対してブロードキャストを使えばいいです。  "
   ]
  },
  {
   "cell_type": "code",
   "execution_count": 15,
   "metadata": {},
   "outputs": [
    {
     "name": "stdout",
     "output_type": "stream",
     "text": [
      "exp.(x .^ 2 .+ y' .^ 2) = [7.38905609893065 3.4903429574618414 2.718281828459045 3.4903429574618414 7.38905609893065; 3.4903429574618414 1.6487212707001282 1.2840254166877414 1.6487212707001282 3.4903429574618414; 2.718281828459045 1.2840254166877414 1.0 1.2840254166877414 2.718281828459045; 3.4903429574618414 1.6487212707001282 1.2840254166877414 1.6487212707001282 3.4903429574618414; 7.38905609893065 3.4903429574618414 2.718281828459045 3.4903429574618414 7.38905609893065]\n"
     ]
    },
    {
     "data": {
      "text/plain": [
       "5×5 Array{Float64,2}:\n",
       " 7.38906  3.49034  2.71828  3.49034  7.38906\n",
       " 3.49034  1.64872  1.28403  1.64872  3.49034\n",
       " 2.71828  1.28403  1.0      1.28403  2.71828\n",
       " 3.49034  1.64872  1.28403  1.64872  3.49034\n",
       " 7.38906  3.49034  2.71828  3.49034  7.38906"
      ]
     },
     "execution_count": 15,
     "metadata": {},
     "output_type": "execute_result"
    }
   ],
   "source": [
    "x = range(-1, stop =1, length =5)\n",
    "y = range(-1, stop =1, length =5)\n",
    "@show exp.(x.^2 .+ y'.^2)"
   ]
  },
  {
   "cell_type": "markdown",
   "metadata": {},
   "source": [
    "最後の例のように、. が多くなるともうわけわかんない、ってなると思います。  \n",
    "ドットを自動でつける@.マクロが存在します。   "
   ]
  },
  {
   "cell_type": "code",
   "execution_count": 16,
   "metadata": {},
   "outputs": [
    {
     "name": "stdout",
     "output_type": "stream",
     "text": [
      "#= In[16]:3 =# @__dot__(exp(x ^ 2 + y' ^ 2)) = [7.38905609893065 3.4903429574618414 2.718281828459045 3.4903429574618414 7.38905609893065; 3.4903429574618414 1.6487212707001282 1.2840254166877414 1.6487212707001282 3.4903429574618414; 2.718281828459045 1.2840254166877414 1.0 1.2840254166877414 2.718281828459045; 3.4903429574618414 1.6487212707001282 1.2840254166877414 1.6487212707001282 3.4903429574618414; 7.38905609893065 3.4903429574618414 2.718281828459045 3.4903429574618414 7.38905609893065]\n"
     ]
    },
    {
     "data": {
      "text/plain": [
       "5×5 Array{Float64,2}:\n",
       " 7.38906  3.49034  2.71828  3.49034  7.38906\n",
       " 3.49034  1.64872  1.28403  1.64872  3.49034\n",
       " 2.71828  1.28403  1.0      1.28403  2.71828\n",
       " 3.49034  1.64872  1.28403  1.64872  3.49034\n",
       " 7.38906  3.49034  2.71828  3.49034  7.38906"
      ]
     },
     "execution_count": 16,
     "metadata": {},
     "output_type": "execute_result"
    }
   ],
   "source": [
    "x = range(-1, stop =1, length =5)\n",
    "y = range(-1, stop =1, length =5)\n",
    "@show @. exp(x^2 + y'^2)"
   ]
  },
  {
   "cell_type": "markdown",
   "metadata": {},
   "source": [
    "一次元っぽく関数宣言をしておいて、@.を付けてしまえばいいわけです。"
   ]
  }
 ],
 "metadata": {
  "@webio": {
   "lastCommId": null,
   "lastKernelId": null
  },
  "kernelspec": {
   "display_name": "Julia 1.5.0",
   "language": "julia",
   "name": "julia-1.5"
  },
  "language_info": {
   "file_extension": ".jl",
   "mimetype": "application/julia",
   "name": "julia",
   "version": "1.5.0"
  },
  "toc": {
   "base_numbering": 1,
   "nav_menu": {},
   "number_sections": true,
   "sideBar": true,
   "skip_h1_title": false,
   "title_cell": "Table of Contents",
   "title_sidebar": "Contents",
   "toc_cell": false,
   "toc_position": {},
   "toc_section_display": true,
   "toc_window_display": true
  },
  "varInspector": {
   "cols": {
    "lenName": 16,
    "lenType": 16,
    "lenVar": 40
   },
   "kernels_config": {
    "python": {
     "delete_cmd_postfix": "",
     "delete_cmd_prefix": "del ",
     "library": "var_list.py",
     "varRefreshCmd": "print(var_dic_list())"
    },
    "r": {
     "delete_cmd_postfix": ") ",
     "delete_cmd_prefix": "rm(",
     "library": "var_list.r",
     "varRefreshCmd": "cat(var_dic_list()) "
    }
   },
   "types_to_exclude": [
    "module",
    "function",
    "builtin_function_or_method",
    "instance",
    "_Feature"
   ],
   "window_display": false
  }
 },
 "nbformat": 4,
 "nbformat_minor": 4
}
